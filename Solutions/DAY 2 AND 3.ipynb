{
 "cells": [
  {
   "cell_type": "markdown",
   "metadata": {},
   "source": [
    "### DAY 2"
   ]
  },
  {
   "cell_type": "code",
   "execution_count": 14,
   "metadata": {},
   "outputs": [
    {
     "name": "stdout",
     "output_type": "stream",
     "text": [
      "a = 1 Type of a: <class 'int'>\n",
      "b = 1.1 Type of b: <class 'float'>\n",
      "c = ABCDEF Type of c: <class 'str'>\n",
      "d = (1+2j) Type of d: <class 'str'>\n"
     ]
    }
   ],
   "source": [
    "# creating an integer variable\n",
    "a = 1\n",
    "print(\"a =\", a,\"Type of a:\", type(a))\n",
    "\n",
    "# creating an float variable\n",
    "b = 1.10\n",
    "print(\"b =\", b,\"Type of b:\", type(b))\n",
    "\n",
    "# creating a character/string variable\n",
    "c = 'ABCDEF'\n",
    "print(\"c =\", c,\"Type of c:\", type(c))\n",
    "\n",
    "# creating a complex variable\n",
    "d = 1+2j\n",
    "print(\"d =\", d, \"Type of d:\", type(c))"
   ]
  },
  {
   "cell_type": "code",
   "execution_count": 26,
   "metadata": {},
   "outputs": [
    {
     "name": "stdout",
     "output_type": "stream",
     "text": [
      "Hi, My name is Omkar\n",
      "y\n",
      "My name is Omkar\n",
      "M aei ma\n"
     ]
    }
   ],
   "source": [
    "e = \"Hi, My name is Omkar\"\n",
    "print(e)\n",
    "\n",
    "#accessing elements at particular indices\n",
    "print(e[5])\n",
    "\n",
    "#slicing in string\n",
    "print(e[4:20])\n",
    "\n",
    "#slicing with steps\n",
    "print(e[4:20:2])\n"
   ]
  },
  {
   "cell_type": "markdown",
   "metadata": {},
   "source": [
    "### DAY 3"
   ]
  },
  {
   "cell_type": "code",
   "execution_count": 27,
   "metadata": {},
   "outputs": [
    {
     "name": "stdout",
     "output_type": "stream",
     "text": [
      "2.1\n",
      "-0.10000000000000009\n",
      "1.1\n",
      "0.9090909090909091\n"
     ]
    }
   ],
   "source": [
    "print(a+b)\n",
    "print(a-b)\n",
    "print(a*b)\n",
    "print(a/b)"
   ]
  },
  {
   "cell_type": "code",
   "execution_count": 34,
   "metadata": {},
   "outputs": [
    {
     "name": "stdout",
     "output_type": "stream",
     "text": [
      "False\n",
      "True\n",
      "True\n",
      "False\n"
     ]
    }
   ],
   "source": [
    "p = True\n",
    "q = False\n",
    "\n",
    "print(p and q)\n",
    "print(p or q)\n",
    "print(p ^ q) #Ex-OR\n",
    "print(not p)"
   ]
  },
  {
   "cell_type": "code",
   "execution_count": null,
   "metadata": {},
   "outputs": [],
   "source": []
  }
 ],
 "metadata": {
  "kernelspec": {
   "display_name": "Python 3",
   "language": "python",
   "name": "python3"
  },
  "language_info": {
   "codemirror_mode": {
    "name": "ipython",
    "version": 3
   },
   "file_extension": ".py",
   "mimetype": "text/x-python",
   "name": "python",
   "nbconvert_exporter": "python",
   "pygments_lexer": "ipython3",
   "version": "3.8.3"
  }
 },
 "nbformat": 4,
 "nbformat_minor": 4
}
