{
 "cells": [
  {
   "cell_type": "code",
   "execution_count": 2,
   "metadata": {},
   "outputs": [
    {
     "name": "stdout",
     "output_type": "stream",
     "text": [
      "b is greater than a\n"
     ]
    }
   ],
   "source": [
    "#conditionality operators\n",
    "#syntax if condition:\n",
    "#          code to be executed\n",
    "a = 10\n",
    "b = 20\n",
    "if b > a:\n",
    "    print(\"b is greater than a\")"
   ]
  },
  {
   "cell_type": "code",
   "execution_count": 3,
   "metadata": {},
   "outputs": [
    {
     "name": "stdout",
     "output_type": "stream",
     "text": [
      "a is even\n"
     ]
    }
   ],
   "source": [
    "if a%2 == 0:\n",
    "    print(\"a is even\")"
   ]
  },
  {
   "cell_type": "code",
   "execution_count": 4,
   "metadata": {},
   "outputs": [
    {
     "name": "stdout",
     "output_type": "stream",
     "text": [
      "The sum is less than 50\n"
     ]
    }
   ],
   "source": [
    "if a+b > 50:\n",
    "    print(\"The sum is greater than 50\")\n",
    "else:\n",
    "    print(\"The sum is less than 50\")"
   ]
  },
  {
   "cell_type": "code",
   "execution_count": 6,
   "metadata": {
    "scrolled": false
   },
   "outputs": [
    {
     "name": "stdout",
     "output_type": "stream",
     "text": [
      "Anyone or both the values are false\n"
     ]
    }
   ],
   "source": [
    "a = True\n",
    "b = False\n",
    "if a and b:\n",
    "    print(\"both are true\")\n",
    "else:\n",
    "    print(\"Anyone or both the values are false\")"
   ]
  },
  {
   "cell_type": "code",
   "execution_count": 7,
   "metadata": {},
   "outputs": [
    {
     "name": "stdout",
     "output_type": "stream",
     "text": [
      "Anyone or both the values are true\n"
     ]
    }
   ],
   "source": [
    "if a or b:\n",
    "    print(\"Anyone or both the values are true\")\n",
    "else:\n",
    "    print(\"Both the values are False\")"
   ]
  },
  {
   "cell_type": "markdown",
   "metadata": {},
   "source": [
    "# Loops"
   ]
  },
  {
   "cell_type": "code",
   "execution_count": 9,
   "metadata": {},
   "outputs": [
    {
     "name": "stdout",
     "output_type": "stream",
     "text": [
      "Hello for 0 th time\n",
      "Hello for 1 th time\n",
      "Hello for 2 th time\n",
      "Hello for 3 th time\n",
      "Hello for 4 th time\n",
      "Hello for 5 th time\n",
      "Hello for 6 th time\n",
      "Hello for 7 th time\n",
      "Hello for 8 th time\n",
      "Hello for 9 th time\n"
     ]
    }
   ],
   "source": [
    "#for loop\n",
    "for i in range(10):\n",
    "    print(\"Hello for\", i, \"th time\")"
   ]
  },
  {
   "cell_type": "code",
   "execution_count": 10,
   "metadata": {},
   "outputs": [
    {
     "name": "stdout",
     "output_type": "stream",
     "text": [
      "Hello\n",
      "Hi\n",
      "How are you?\n",
      "35\n",
      "49\n",
      "59\n",
      "37\n",
      "38\n",
      "23\n",
      "Jay\n",
      "a\n",
      "(4+3j)\n",
      "[12, 13, 14, 15]\n"
     ]
    }
   ],
   "source": [
    "lst = [\"Hello\", \"Hi\", \"How are you?\", 35, 49, 59, 37, 38, 23, \"Jay\", 'a', 4+3j, [12,13,14,15]]\n",
    "for ele in lst:\n",
    "    print(ele)"
   ]
  },
  {
   "cell_type": "code",
   "execution_count": 15,
   "metadata": {},
   "outputs": [
    {
     "name": "stdout",
     "output_type": "stream",
     "text": [
      "Neither a number nor Jay\n",
      "Neither a number nor Jay\n",
      "Neither a number nor Jay\n",
      "This is a number\n",
      "This is a number\n",
      "This is a number\n",
      "This is a number\n",
      "This is a number\n",
      "This is a number\n",
      "This is roll no 23\n",
      "This is Jay\n",
      "Neither a number nor Jay\n",
      "Neither a number nor Jay\n",
      "Neither a number nor Jay\n"
     ]
    }
   ],
   "source": [
    "for x in lst:\n",
    "    if x == \"Jay\":\n",
    "        print(\"This is\", x)\n",
    "    elif type(x) == int:\n",
    "        print(\"This is a number\")\n",
    "        if x == 23:\n",
    "            print(\"This is roll no 23\")\n",
    "    else:\n",
    "        print(\"Neither a number nor Jay\")"
   ]
  },
  {
   "cell_type": "code",
   "execution_count": 3,
   "metadata": {},
   "outputs": [
    {
     "name": "stdout",
     "output_type": "stream",
     "text": [
      "9 lines to print\n",
      "8 lines to print\n",
      "7 lines to print\n",
      "6 lines to print\n",
      "5 lines to print\n",
      "4 lines to print\n",
      "3 lines to print\n",
      "2 lines to print\n",
      "1 lines to print\n"
     ]
    }
   ],
   "source": [
    "# While\n",
    "count = 10\n",
    "i = 1\n",
    "while i<count:\n",
    "    print(count-i, \"lines to print\")\n",
    "    i+=1"
   ]
  },
  {
   "cell_type": "code",
   "execution_count": 4,
   "metadata": {},
   "outputs": [],
   "source": [
    "# enter True in condition part to enter an infinite loop"
   ]
  },
  {
   "cell_type": "code",
   "execution_count": 2,
   "metadata": {},
   "outputs": [
    {
     "name": "stdout",
     "output_type": "stream",
     "text": [
      "10\n",
      "9\n",
      "8\n",
      "7\n",
      "6\n",
      "5\n",
      "4\n",
      "This is 4 step\n",
      "breaking here\n"
     ]
    }
   ],
   "source": [
    "count = 10\n",
    "while count>1:\n",
    "    print(count)\n",
    "    if count == 4:\n",
    "        print(\"This is\", count, \"step\")\n",
    "        print(\"breaking the loop here\")\n",
    "        break\n",
    "    count-=1"
   ]
  },
  {
   "cell_type": "code",
   "execution_count": 1,
   "metadata": {},
   "outputs": [
    {
     "name": "stdout",
     "output_type": "stream",
     "text": [
      "10\n",
      "9\n",
      "8\n",
      "7\n",
      "6\n",
      "5\n",
      "4\n",
      "3\n",
      "2\n"
     ]
    }
   ],
   "source": [
    "count = 10\n",
    "while count>1:\n",
    "    print(count)\n",
    "    if count == 5:\n",
    "        count-=1 #5 is skipped\n",
    "        continue\n",
    "        \n",
    "    count-=1"
   ]
  },
  {
   "cell_type": "code",
   "execution_count": null,
   "metadata": {},
   "outputs": [],
   "source": []
  }
 ],
 "metadata": {
  "kernelspec": {
   "display_name": "Python 3",
   "language": "python",
   "name": "python3"
  },
  "language_info": {
   "codemirror_mode": {
    "name": "ipython",
    "version": 3
   },
   "file_extension": ".py",
   "mimetype": "text/x-python",
   "name": "python",
   "nbconvert_exporter": "python",
   "pygments_lexer": "ipython3",
   "version": "3.8.3"
  }
 },
 "nbformat": 4,
 "nbformat_minor": 4
}
